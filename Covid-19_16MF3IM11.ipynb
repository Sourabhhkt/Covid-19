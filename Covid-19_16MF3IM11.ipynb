{
 "cells": [
  {
   "cell_type": "code",
   "execution_count": 1,
   "metadata": {},
   "outputs": [],
   "source": [
    "import numpy as np\n",
    "import torch\n",
    "import torchvision\n",
    "import matplotlib.pyplot as plt\n",
    "from time import time\n",
    "from torchvision import datasets, transforms\n",
    "from torch import nn, optim\n",
    "import cv2\n",
    "import os\n",
    "import pandas as pd\n",
    "import seaborn as sns\n",
    "import random"
   ]
  },
  {
   "cell_type": "code",
   "execution_count": 2,
   "metadata": {},
   "outputs": [
    {
     "name": "stdout",
     "output_type": "stream",
     "text": [
      "Reading from  images/Source1/\n"
     ]
    },
    {
     "name": "stderr",
     "output_type": "stream",
     "text": [
      "C:\\ProgramData\\Anaconda3\\lib\\site-packages\\ipykernel_launcher.py:18: FutureWarning: get_value is deprecated and will be removed in a future release. Please use .at[] or .iat[] accessors instead\n",
      "C:\\ProgramData\\Anaconda3\\lib\\site-packages\\ipykernel_launcher.py:21: FutureWarning: get_value is deprecated and will be removed in a future release. Please use .at[] or .iat[] accessors instead\n",
      "C:\\ProgramData\\Anaconda3\\lib\\site-packages\\ipykernel_launcher.py:24: FutureWarning: get_value is deprecated and will be removed in a future release. Please use .at[] or .iat[] accessors instead\n"
     ]
    },
    {
     "name": "stdout",
     "output_type": "stream",
     "text": [
      "Reading from  images/Source2/\n",
      "Reading from  images/Source7/\n",
      "Reading from  chexpert/Train_reshape/\n",
      "Reading from  kaggle/Train/\n",
      "Reading from  IEEE8023/\n",
      "Shape of data:-\n",
      "(477, 32, 32, 3) (477,)\n"
     ]
    }
   ],
   "source": [
    "#Read the images and the labels from the files\n",
    "folders=['images/Source1/','images/Source2/','images/Source7/', 'chexpert/Train_reshape/', 'kaggle/Train/','IEEE8023/']\n",
    "rd=pd.read_csv('Train_Combined.csv', index_col=\"Image Name\")\n",
    "\n",
    "X=[]\n",
    "Y=[]\n",
    "for folder in folders:\n",
    "    print(\"Reading from \",folder)\n",
    "    images=os.listdir(folder)\n",
    "    if len(images)>200:\n",
    "        images=random.sample(images,200)\n",
    "    ctr=1\n",
    "    for image in images:\n",
    "        img=cv2.imread(folder+image)\n",
    "        if img is not None and image in list(rd.index):\n",
    "            img=cv2.resize(img, (32, 32), interpolation=cv2.INTER_AREA)           \n",
    "            if folder!='chexpert/Train_reshape/':\n",
    "                if rd.get_value(image,\"Non-Pneumonia\")==1:\n",
    "                    X.append(img)\n",
    "                    Y.append(1)\n",
    "                if rd.get_value(image,\"Other Pneumonia\")==1:\n",
    "                    X.append(img)\n",
    "                    Y.append(2)\n",
    "                if rd.get_value(image,\"COVID-19\")==1:\n",
    "                    X.append(img)\n",
    "                    Y.append(3)\n",
    "            #Modify below to read label in excel\n",
    "            else:\n",
    "                if rd.get_value('Train_reshape/'+image,\"Non-Pneumonia\")==1:\n",
    "                    X.append(img)\n",
    "                    Y.append(1)\n",
    "                if rd.get_value('Train_reshape/'+image,\"Other Pneumonia\")==1:\n",
    "                    X.append(img)\n",
    "                    Y.append(2)\n",
    "                if rd.get_value('Train_reshape/'+image,\"COVID-19\")==1:\n",
    "                    X.append(img)\n",
    "                    Y.append(3)\n",
    "            ctr+=1\n",
    "        \n",
    "covidtrainX= np.array(X)\n",
    "covidtrainY=np.array(Y)\n",
    "print(\"Shape of data:-\")\n",
    "print(covidtrainX.shape,covidtrainY.shape)"
   ]
  },
  {
   "cell_type": "code",
   "execution_count": 3,
   "metadata": {},
   "outputs": [
    {
     "data": {
      "text/plain": [
       "<matplotlib.axes._subplots.AxesSubplot at 0x1cb10ae8b00>"
      ]
     },
     "execution_count": 3,
     "metadata": {},
     "output_type": "execute_result"
    },
    {
     "data": {
      "image/png": "[encoded data removed]",
      "text/plain": [
       "<Figure size 432x288 with 1 Axes>"
      ]
     },
     "metadata": {},
     "output_type": "display_data"
    }
   ],
   "source": [
    "#Plot the count of different classes\n",
    "sns.countplot(covidtrainY)"
   ]
  },
  {
   "cell_type": "code",
   "execution_count": 4,
   "metadata": {},
   "outputs": [
    {
     "data": {
      "image/png": "[encoded data removed]",
      "text/plain": [
       "<Figure size 720x720 with 6 Axes>"
      ]
     },
     "metadata": {},
     "output_type": "display_data"
    }
   ],
   "source": [
    "#show some imgaes and labels\n",
    "plt.figure(figsize=(10, 10))\n",
    "ctr=1\n",
    "for i in random.sample(range(covidtrainX.shape[0]), 6): # how many imgs will show from the 3x3 grid\n",
    "    plt.subplot(330 + ctr) # open next subplot\n",
    "    plt.grid(False)\n",
    "    plt.imshow(covidtrainX[i][:,:,0], cmap=plt.get_cmap('gray'))\n",
    "    plt.title(covidtrainY[i])\n",
    "    ctr+=1"
   ]
  },
  {
   "cell_type": "code",
   "execution_count": 5,
   "metadata": {},
   "outputs": [
    {
     "name": "stdout",
     "output_type": "stream",
     "text": [
      "X_train shape: (400, 3072)\n",
      "Y_train shape: (400,)\n"
     ]
    }
   ],
   "source": [
    "train_ind=random.sample(range(covidtrainX.shape[0]), 400)\n",
    "cros_val=[i for i in range(covidtrainX.shape[0]) if i not in train_ind]\n",
    "covidtrainX=np.reshape(covidtrainX, (covidtrainX.shape[0],3072) )\n",
    "X_train= covidtrainX[train_ind]\n",
    "Y_train= covidtrainY[train_ind]\n",
    "X_cv= covidtrainX[cros_val]\n",
    "Y_cv= covidtrainY[cros_val]\n",
    "print(\"X_train shape:\",X_train.shape)\n",
    "print(\"Y_train shape:\",Y_train.shape)\n",
    "Y_train=Y_train-1\n",
    "Y_cv= Y_cv-1"
   ]
  },
  {
   "cell_type": "code",
   "execution_count": 104,
   "metadata": {},
   "outputs": [
    {
     "name": "stdout",
     "output_type": "stream",
     "text": [
      "Parameter containing:\n",
      "tensor([[ 1.1090e-02,  1.5708e-02,  1.0456e-02,  ...,  1.4543e-02,\n",
      "         -1.0764e-02, -6.7569e-03],\n",
      "        [-7.4166e-03, -9.7267e-03,  2.7815e-05,  ..., -1.2620e-02,\n",
      "         -1.2141e-02, -1.3408e-03],\n",
      "        [-9.5816e-03,  1.7114e-02,  2.3235e-03,  ..., -5.9408e-03,\n",
      "         -1.4264e-02,  1.1344e-02],\n",
      "        ...,\n",
      "        [-6.8865e-03,  1.6750e-03,  1.7091e-02,  ...,  1.2746e-02,\n",
      "         -1.3959e-02, -1.0402e-02],\n",
      "        [-5.2780e-03,  1.2195e-02,  1.2219e-02,  ..., -4.9759e-03,\n",
      "          1.5576e-03, -1.0322e-02],\n",
      "        [-9.9214e-03,  5.0464e-03,  8.4982e-03,  ...,  1.4564e-02,\n",
      "         -1.2965e-02, -1.2898e-02]], dtype=torch.float64, requires_grad=True)\n"
     ]
    }
   ],
   "source": [
    "# Following is the neural net architecture\n",
    "input_size = 3072\n",
    "hidden_sizes = [256,128]\n",
    "output_size = 3\n",
    "\n",
    "model = nn.Sequential(nn.Linear(input_size, hidden_sizes[0],bias=True),\n",
    "                      nn.ReLU(),\n",
    "                      nn.Linear(hidden_sizes[0], hidden_sizes[1],bias=True),\n",
    "                      nn.ReLU(),\n",
    "                      nn.Linear(hidden_sizes[1], output_size,bias=True),\n",
    "                      nn.LogSoftmax(dim=1))\n",
    "\n",
    "model=model.double()\n",
    "print(model[0].weight)"
   ]
  },
  {
   "cell_type": "code",
   "execution_count": 105,
   "metadata": {},
   "outputs": [
    {
     "name": "stdout",
     "output_type": "stream",
     "text": [
      "tensor([[-1.0653, -1.1445, -1.0876]], dtype=torch.float64,\n",
      "       grad_fn=<LogSoftmaxBackward>) tensor([1])\n",
      "tensor(1.1445, dtype=torch.float64, grad_fn=<NllLossBackward>)\n",
      "Before backward pass grad: \n",
      " None\n",
      "After backward pass grad: \n",
      " tensor([[-0.0000, -0.0000, -0.0000,  ..., -0.0000, -0.0000, -0.0000],\n",
      "        [-0.0104, -0.0104, -0.0104,  ..., -0.0104, -0.0104, -0.0104],\n",
      "        [ 0.0126,  0.0126,  0.0126,  ...,  0.0126,  0.0126,  0.0126],\n",
      "        ...,\n",
      "        [-0.0000, -0.0000, -0.0000,  ..., -0.0000, -0.0000, -0.0000],\n",
      "        [-0.0005, -0.0005, -0.0005,  ..., -0.0005, -0.0005, -0.0005],\n",
      "        [-0.0000, -0.0000, -0.0000,  ..., -0.0000, -0.0000, -0.0000]],\n",
      "       dtype=torch.float64)\n"
     ]
    }
   ],
   "source": [
    "criterion = nn.NLLLoss(weight=torch.tensor(weights, dtype=torch.double))\n",
    "images= torch.from_numpy(X_train[300]).double().reshape(3072,1)\n",
    "images= (images-images.mean())/(max(images)-min(images))\n",
    "# Training pass\n",
    "optimizer.zero_grad()\n",
    "output = model(images.T).requires_grad_(True)\n",
    "labels=Y_train[300]\n",
    "labels=labels.long()\n",
    "labels=labels.reshape(1,)\n",
    "print(output,labels)\n",
    "loss = criterion(output, labels)     \n",
    "print(loss)\n",
    "#This is where the model learns by backpropagating   \n",
    "\n",
    "print('Before backward pass grad: \\n', model[0].weight.grad)\n",
    "loss.backward() \n",
    "\n",
    "print('After backward pass grad: \\n', model[0].weight.grad)"
   ]
  },
  {
   "cell_type": "code",
   "execution_count": 106,
   "metadata": {},
   "outputs": [
    {
     "name": "stdout",
     "output_type": "stream",
     "text": [
      "Epoch: 0\n",
      "Epoch 0 - Training loss: 0.3209716099631844\n",
      "Epoch: 1\n",
      "Epoch 1 - Training loss: 0.2410543000284244\n",
      "Epoch: 2\n",
      "Epoch 2 - Training loss: 0.2132305935532204\n",
      "Epoch: 3\n",
      "Epoch 3 - Training loss: 0.1922112781616053\n",
      "Epoch: 4\n",
      "Epoch 4 - Training loss: 0.17385057515027297\n",
      "Epoch: 5\n",
      "Epoch 5 - Training loss: 0.15748087691294596\n",
      "Epoch: 6\n",
      "Epoch 6 - Training loss: 0.14181994947772567\n",
      "Epoch: 7\n",
      "Epoch 7 - Training loss: 0.12634726626865164\n",
      "Epoch: 8\n",
      "Epoch 8 - Training loss: 0.11432038053614245\n",
      "Epoch: 9\n",
      "Epoch 9 - Training loss: 0.10123822083732494\n",
      "\n",
      "Training Time (in minutes) = 11.697965741157532\n"
     ]
    }
   ],
   "source": [
    "'''We now train the neural network and plot learning curves\n",
    "Note:--The Class Imbalance is adjusted by attaching proper weights to the loss function'''\n",
    "#import warnings; warnings.simplefilter('ignore')\n",
    "Y_train = Y_train.float()\n",
    "weights = [Y_train.shape[0]/sum([int(Y_train[j] == i) for j in range(Y_train.shape[0])]) for i in range(3)]\n",
    "weights[2]/=10\n",
    "criterion = nn.NLLLoss(weight=torch.tensor(weights, dtype=torch.double))\n",
    "optimizer = optim.SGD(model.parameters(), lr=0.001, momentum=0.9)\n",
    "time0 = time()\n",
    "epochs = 10\n",
    "trainLoss=[]\n",
    "cvLoss=[]\n",
    "\n",
    "for e in range(epochs):\n",
    "    print(\"Epoch:\",e)\n",
    "    running_loss = 0\n",
    "    ctr=1\n",
    "    for images, labels in zip(X_train,Y_train):\n",
    "        # Flatten MNIST images into a 784 long vector\n",
    "        images= torch.from_numpy(images).double().reshape(3072,1)\n",
    "        images= (images-images.mean())/(max(images)-min(images))\n",
    "        # Training pass\n",
    "        optimizer.zero_grad()\n",
    "        output = model(images.T).requires_grad_(True)\n",
    "        labels=labels.long()\n",
    "        labels=labels.reshape(1,)\n",
    "        loss = criterion(output, labels)        \n",
    "        #This is where the model learns by backpropagating     \n",
    "        loss.backward()        \n",
    "        #And optimizes its weights here\n",
    "        optimizer.step()\n",
    "        running_loss += loss.item()\n",
    "        if pd.isnull(running_loss):\n",
    "            print(\"Breaking at \",ctr)\n",
    "            break\n",
    "        ctr=ctr+1\n",
    "    else:\n",
    "        print(\"Epoch {} - Training loss: {}\".format(e, running_loss/836))\n",
    "        trainLoss.append(running_loss/836)\n",
    "        c1=0\n",
    "        c2=0\n",
    "        for images, labels in zip(X_cv,Y_cv):\n",
    "            c1=c1+1\n",
    "            images= torch.from_numpy(X_train[2]).double().reshape(3072,1)\n",
    "            images= (images-images.mean())/(max(images)-min(images))\n",
    "            logsp = model(images.T)\n",
    "            p_max, dig= logsp.max(1)\n",
    "            if int(dig)==labels:\n",
    "                c2=c2+1\n",
    "        cvLoss.append(c2/c1)\n",
    "\n",
    "print(\"\\nTraining Time (in minutes) =\",(time()-time0)/60)"
   ]
  },
  {
   "cell_type": "code",
   "execution_count": 107,
   "metadata": {},
   "outputs": [
    {
     "data": {
      "text/plain": [
       "[<matplotlib.lines.Line2D at 0x1cb116cbba8>]"
      ]
     },
     "execution_count": 107,
     "metadata": {},
     "output_type": "execute_result"
    },
    {
     "data": {
      "image/png": "[encoded data removed]",
      "text/plain": [
       "<Figure size 432x288 with 2 Axes>"
      ]
     },
     "metadata": {},
     "output_type": "display_data"
    }
   ],
   "source": [
    "plt.subplot(1,2,1)\n",
    "x=range(1, len(trainLoss)+1)\n",
    "y=trainLoss\n",
    "plt.plot(x,y)\n",
    "plt.title(\"Train Loss with epoch:\")\n",
    "plt.ylabel(\"Train Loss\")\n",
    "plt.subplot(1,2,2)\n",
    "plt.title(\"Cross Accuracy with epoch:\")\n",
    "\n",
    "x=range(1, len(cvLoss)+1)\n",
    "y=cvLoss\n",
    "plt.plot(x,y)"
   ]
  },
  {
   "cell_type": "code",
   "execution_count": 108,
   "metadata": {},
   "outputs": [
    {
     "name": "stdout",
     "output_type": "stream",
     "text": [
      "Predicted Digit = 2 label: 2\n",
      "Predicted Digit = 2 label: 2\n",
      "Predicted Digit = 2 label: 2\n",
      "Predicted Digit = 2 label: 2\n",
      "Predicted Digit = 2 label: 2\n",
      "Predicted Digit = 2 label: 2\n",
      "Predicted Digit = 2 label: 2\n",
      "Predicted Digit = 2 label: 2\n",
      "Predicted Digit = 2 label: 2\n",
      "Predicted Digit = 2 label: 2\n",
      "Predicted Digit = 2 label: 2\n",
      "Predicted Digit = 2 label: 2\n",
      "Predicted Digit = 2 label: 2\n",
      "Predicted Digit = 2 label: 2\n",
      "Predicted Digit = 2 label: 2\n",
      "Predicted Digit = 2 label: 2\n",
      "Predicted Digit = 2 label: 2\n",
      "Predicted Digit = 2 label: 2\n",
      "Predicted Digit = 2 label: 2\n",
      "Predicted Digit = 2 label: 2\n",
      "Predicted Digit = 2 label: 2\n",
      "Predicted Digit = 2 label: 2\n",
      "Predicted Digit = 2 label: 2\n",
      "Predicted Digit = 2 label: 2\n",
      "Predicted Digit = 2 label: 2\n",
      "Predicted Digit = 2 label: 2\n",
      "Predicted Digit = 2 label: 2\n",
      "Predicted Digit = 2 label: 2\n",
      "Predicted Digit = 1 label: 1\n",
      "Predicted Digit = 2 label: 0\n",
      "Predicted Digit = 1 label: 1\n",
      "Predicted Digit = 1 label: 1\n",
      "Predicted Digit = 1 label: 1\n",
      "Predicted Digit = 1 label: 1\n",
      "Predicted Digit = 1 label: 1\n",
      "Predicted Digit = 2 label: 0\n",
      "Predicted Digit = 1 label: 1\n",
      "Predicted Digit = 1 label: 1\n",
      "Predicted Digit = 1 label: 1\n",
      "Predicted Digit = 1 label: 1\n",
      "Predicted Digit = 1 label: 1\n",
      "Predicted Digit = 1 label: 1\n",
      "Predicted Digit = 1 label: 1\n",
      "Predicted Digit = 1 label: 0\n",
      "Predicted Digit = 1 label: 1\n",
      "Predicted Digit = 0 label: 0\n",
      "Predicted Digit = 1 label: 1\n",
      "Predicted Digit = 1 label: 1\n",
      "Predicted Digit = 0 label: 0\n",
      "Predicted Digit = 1 label: 1\n",
      "Predicted Digit = 1 label: 0\n",
      "Predicted Digit = 0 label: 0\n",
      "Predicted Digit = 1 label: 1\n",
      "Predicted Digit = 0 label: 0\n",
      "Predicted Digit = 1 label: 1\n",
      "Predicted Digit = 1 label: 1\n",
      "Predicted Digit = 1 label: 1\n",
      "Predicted Digit = 2 label: 2\n",
      "Predicted Digit = 1 label: 1\n",
      "Predicted Digit = 2 label: 2\n",
      "Predicted Digit = 2 label: 2\n",
      "Predicted Digit = 2 label: 2\n",
      "Predicted Digit = 2 label: 2\n",
      "Predicted Digit = 2 label: 2\n",
      "Predicted Digit = 2 label: 2\n",
      "Predicted Digit = 2 label: 1\n",
      "Predicted Digit = 2 label: 1\n",
      "Predicted Digit = 0 label: 1\n",
      "Predicted Digit = 2 label: 2\n",
      "Predicted Digit = 2 label: 2\n",
      "Predicted Digit = 2 label: 2\n",
      "Predicted Digit = 2 label: 2\n",
      "Predicted Digit = 2 label: 2\n",
      "Predicted Digit = 2 label: 1\n",
      "Predicted Digit = 2 label: 1\n",
      "Predicted Digit = 2 label: 2\n",
      "Predicted Digit = 2 label: 2\n"
     ]
    }
   ],
   "source": [
    "for image, label in zip(X_cv,Y_cv):\n",
    "    images= torch.from_numpy(image).double().reshape(3072,1)\n",
    "    images= (images-images.mean())/(max(images)-min(images))\n",
    "    logsp = model(images.T)  \n",
    "    ps = torch.exp(logsp)\n",
    "    p_max, dig= ps.max(1)\n",
    "    print(\"Predicted Digit =\", int(dig), end=\" \")\n",
    "    print(\"label:\",label) "
   ]
  },
  {
   "cell_type": "code",
   "execution_count": 109,
   "metadata": {},
   "outputs": [
    {
     "name": "stdout",
     "output_type": "stream",
     "text": [
      "Reading from  images/Source1/\n"
     ]
    },
    {
     "name": "stderr",
     "output_type": "stream",
     "text": [
      "C:\\ProgramData\\Anaconda3\\lib\\site-packages\\ipykernel_launcher.py:19: FutureWarning: get_value is deprecated and will be removed in a future release. Please use .at[] or .iat[] accessors instead\n",
      "C:\\ProgramData\\Anaconda3\\lib\\site-packages\\ipykernel_launcher.py:22: FutureWarning: get_value is deprecated and will be removed in a future release. Please use .at[] or .iat[] accessors instead\n",
      "C:\\ProgramData\\Anaconda3\\lib\\site-packages\\ipykernel_launcher.py:25: FutureWarning: get_value is deprecated and will be removed in a future release. Please use .at[] or .iat[] accessors instead\n"
     ]
    },
    {
     "name": "stdout",
     "output_type": "stream",
     "text": [
      "Reading from  images/Source2/\n",
      "Reading from  images/Source7/\n",
      "Reading from  chexpert/Train_reshape/\n",
      "Reading from  kaggle/Train/\n",
      "Reading from  IEEE8023/\n",
      "Shape of data:-\n",
      "(68, 32, 32, 3) (68,)\n"
     ]
    }
   ],
   "source": [
    "#Load Test data\n",
    "#Read the images and the labels from the files\n",
    "folders=['images/Source1/','images/Source2/','images/Source7/', 'chexpert/Train_reshape/', 'kaggle/Train/','IEEE8023/']\n",
    "rd=pd.read_csv('Train_Combined.csv', index_col=\"Image Name\")\n",
    "\n",
    "X=[]\n",
    "Y=[]\n",
    "for folder in folders:\n",
    "    print(\"Reading from \",folder)\n",
    "    images=os.listdir(folder)\n",
    "    if len(images)>20:\n",
    "        images=random.sample(images,20)\n",
    "    ctr=1\n",
    "    for image in images:\n",
    "        img=cv2.imread(folder+image)\n",
    "        if img is not None and image in list(rd.index):\n",
    "            img=cv2.resize(img, (32, 32), interpolation=cv2.INTER_AREA)           \n",
    "            if folder!='chexpert/Train_reshape/':\n",
    "                if rd.get_value(image,\"Non-Pneumonia\")==1:\n",
    "                    X.append(img)\n",
    "                    Y.append(1)\n",
    "                if rd.get_value(image,\"Other Pneumonia\")==1:\n",
    "                    X.append(img)\n",
    "                    Y.append(2)\n",
    "                if rd.get_value(image,\"COVID-19\")==1:\n",
    "                    X.append(img)\n",
    "                    Y.append(3)\n",
    "            #Modify below to read label in excel\n",
    "            else:\n",
    "                if rd.get_value('Train_reshape/'+image,\"Non-Pneumonia\")==1:\n",
    "                    X.append(img)\n",
    "                    Y.append(1)\n",
    "                if rd.get_value('Train_reshape/'+image,\"Other Pneumonia\")==1:\n",
    "                    X.append(img)\n",
    "                    Y.append(2)\n",
    "                if rd.get_value('Train_reshape/'+image,\"COVID-19\")==1:\n",
    "                    X.append(img)\n",
    "                    Y.append(3)\n",
    "            ctr+=1\n",
    "        \n",
    "covidtestX= np.array(X)\n",
    "covidtestY=np.array(Y)\n",
    "print(\"Shape of data:-\")\n",
    "print(covidtestX.shape,covidtestY.shape)\n"
   ]
  },
  {
   "cell_type": "code",
   "execution_count": 111,
   "metadata": {},
   "outputs": [
    {
     "name": "stdout",
     "output_type": "stream",
     "text": [
      "Test accuracy of the trained model is 14.705882 percent\n"
     ]
    }
   ],
   "source": [
    "covidtestX=np.reshape(covidtestX, (covidtestX.shape[0],3072))\n",
    "c1=0\n",
    "c2=0\n",
    "for images, labels in zip(covidtestX,covidtestY):\n",
    "    c1=c1+1\n",
    "    images= torch.from_numpy(images).double().reshape(3072,1)\n",
    "    images= (images-images.mean())/(max(images)-min(images))\n",
    "    logsp = model(images.T)  \n",
    "    p_max, dig= logsp.max(1)\n",
    "    if int(dig)==labels:\n",
    "        c2=c2+1\n",
    "print(\"Test accuracy of the trained model is %f percent\"%(c2/c1*100))"
   ]
  },
  {
   "cell_type": "code",
   "execution_count": null,
   "metadata": {},
   "outputs": [],
   "source": []
  }
 ],
 "metadata": {
  "kernelspec": {
   "display_name": "Python 3",
   "language": "python",
   "name": "python3"
  },
  "language_info": {
   "codemirror_mode": {
    "name": "ipython",
    "version": 3
   },
   "file_extension": ".py",
   "mimetype": "text/x-python",
   "name": "python",
   "nbconvert_exporter": "python",
   "pygments_lexer": "ipython3",
   "version": "3.6.5"
  }
 },
 "nbformat": 4,
 "nbformat_minor": 2
}
